{
  "nbformat": 4,
  "nbformat_minor": 0,
  "metadata": {
    "colab": {
      "provenance": []
    },
    "kernelspec": {
      "name": "python3",
      "display_name": "Python 3"
    },
    "language_info": {
      "name": "python"
    }
  },
  "cells": [
    {
      "cell_type": "markdown",
      "source": [
        "## Slicing arrays\n",
        "Slicing in python means taking elements from one given index to another given index.\n",
        "\n",
        "We pass slice instead of index like this: [start:end].\n",
        "\n",
        "We can also define the step, like this: [start:end:step]."
      ],
      "metadata": {
        "id": "_5CrEqY2imUg"
      }
    },
    {
      "cell_type": "code",
      "source": [
        "import numpy as np\n",
        "\n",
        "a1 = np.array([1, 2, 3, 4, 5, 6, 7])             # Slicing 1D Array\n",
        "\n",
        "print(a1[1:5])     # Slicing                                  # [start:end]\n",
        "print(a1[4])     # Indexing\n",
        "a1[:4]"
      ],
      "metadata": {
        "id": "pdWhl772g3g-",
        "colab": {
          "base_uri": "https://localhost:8080/"
        },
        "outputId": "9f4415ce-a02d-4603-eb58-0b846ec83d2b"
      },
      "execution_count": 1,
      "outputs": [
        {
          "output_type": "stream",
          "name": "stdout",
          "text": [
            "[2 3 4 5]\n",
            "5\n"
          ]
        },
        {
          "output_type": "execute_result",
          "data": {
            "text/plain": [
              "array([1, 2, 3, 4])"
            ]
          },
          "metadata": {},
          "execution_count": 1
        }
      ]
    },
    {
      "cell_type": "code",
      "source": [
        "print(a1)"
      ],
      "metadata": {
        "id": "tpXK4B4bfE-M",
        "outputId": "9dc9c212-86a2-45d1-841a-01ea3fc3f516",
        "colab": {
          "base_uri": "https://localhost:8080/"
        }
      },
      "execution_count": 3,
      "outputs": [
        {
          "output_type": "stream",
          "name": "stdout",
          "text": [
            "[1 2 3 4 5 6 7]\n"
          ]
        }
      ]
    },
    {
      "cell_type": "code",
      "source": [
        "a2 = np.array([[1, 2, 3, 4, 5], [6, 7, 8, 9, 10]])      # Slicing 2D Array\n",
        "\n",
        "a2[1, 1:4]                                            # [row:column]\n",
        "a2[0:2, 2]\n",
        "# a2[1:, :5]"
      ],
      "metadata": {
        "id": "MPrCVPQdg3jM",
        "colab": {
          "base_uri": "https://localhost:8080/"
        },
        "outputId": "524fa2f2-769f-456c-dd06-218296932343"
      },
      "execution_count": 4,
      "outputs": [
        {
          "output_type": "execute_result",
          "data": {
            "text/plain": [
              "array([3, 8])"
            ]
          },
          "metadata": {},
          "execution_count": 4
        }
      ]
    },
    {
      "cell_type": "code",
      "source": [
        "a2.shape"
      ],
      "metadata": {
        "id": "TdT6aw36f8hu",
        "colab": {
          "base_uri": "https://localhost:8080/"
        },
        "outputId": "0810cefb-db01-48b0-cb6c-90e4a03dbbe1"
      },
      "execution_count": 5,
      "outputs": [
        {
          "output_type": "execute_result",
          "data": {
            "text/plain": [
              "(2, 5)"
            ]
          },
          "metadata": {},
          "execution_count": 5
        }
      ]
    },
    {
      "cell_type": "code",
      "source": [
        "a3.shape"
      ],
      "metadata": {
        "id": "omk5lznDf8la",
        "outputId": "804c9280-78ae-40ec-863d-ff9cf519768e",
        "colab": {
          "base_uri": "https://localhost:8080/"
        }
      },
      "execution_count": 7,
      "outputs": [
        {
          "output_type": "execute_result",
          "data": {
            "text/plain": [
              "(3, 3, 3)"
            ]
          },
          "metadata": {},
          "execution_count": 7
        }
      ]
    },
    {
      "cell_type": "code",
      "source": [
        "a3 = np.array([[[10, 11, 12], [13, 14, 15], [16, 17, 18]],\n",
        "               [[20, 21, 22], [23, 24, 25], [26, 27, 28]],\n",
        "               [[30, 31, 32], [33, 34, 35], [36, 37, 38]]])           # # Slicing 3D Array"
      ],
      "metadata": {
        "id": "6pFBv-tXg3lU"
      },
      "execution_count": 6,
      "outputs": []
    },
    {
      "cell_type": "code",
      "source": [
        "a3[:2,1:,:2]                                                          # [matrix:row:column]"
      ],
      "metadata": {
        "id": "sKv6yYKIg3nV",
        "outputId": "6d587239-ab98-4da0-c0d6-ada6a9f784a3",
        "colab": {
          "base_uri": "https://localhost:8080/"
        }
      },
      "execution_count": 8,
      "outputs": [
        {
          "output_type": "execute_result",
          "data": {
            "text/plain": [
              "array([[[13, 14],\n",
              "        [16, 17]],\n",
              "\n",
              "       [[23, 24],\n",
              "        [26, 27]]])"
            ]
          },
          "metadata": {},
          "execution_count": 8
        }
      ]
    },
    {
      "cell_type": "code",
      "source": [
        "a3[:2,1:,:]"
      ],
      "metadata": {
        "colab": {
          "base_uri": "https://localhost:8080/"
        },
        "id": "yCIpXjHpm1LT",
        "outputId": "f0eacb0a-7888-44c2-d0bf-da2fd3c9918a"
      },
      "execution_count": null,
      "outputs": [
        {
          "output_type": "execute_result",
          "data": {
            "text/plain": [
              "array([[[13, 14, 15],\n",
              "        [16, 17, 18]],\n",
              "\n",
              "       [[23, 24, 25],\n",
              "        [26, 27, 28]]])"
            ]
          },
          "metadata": {},
          "execution_count": 31
        }
      ]
    },
    {
      "cell_type": "code",
      "source": [
        "a3[:2,1:,:2]"
      ],
      "metadata": {
        "id": "rCZViER-g3pR",
        "outputId": "560d9f69-da73-489f-cf61-7002f82a2656",
        "colab": {
          "base_uri": "https://localhost:8080/"
        }
      },
      "execution_count": 9,
      "outputs": [
        {
          "output_type": "execute_result",
          "data": {
            "text/plain": [
              "array([[[13, 14],\n",
              "        [16, 17]],\n",
              "\n",
              "       [[23, 24],\n",
              "        [26, 27]]])"
            ]
          },
          "metadata": {},
          "execution_count": 9
        }
      ]
    },
    {
      "cell_type": "code",
      "source": [],
      "metadata": {
        "id": "CZBjzZ05g3rg"
      },
      "execution_count": null,
      "outputs": []
    },
    {
      "cell_type": "code",
      "source": [],
      "metadata": {
        "id": "pRGgqDZ1g3tB"
      },
      "execution_count": null,
      "outputs": []
    },
    {
      "cell_type": "markdown",
      "source": [
        "# View vs Copy\n",
        "\n",
        "Copy is a new array, and the View is just a view of the original array.\n",
        "\n",
        "Any changes made to the **copy** will not affect original array.\n",
        "\n",
        "Any changes made to the **view** will affect the original array."
      ],
      "metadata": {
        "id": "kwge9Pl45-gI"
      }
    },
    {
      "cell_type": "code",
      "source": [
        "arr = np.array([1, 2, 3, 4, 5])\n",
        "\n",
        "# Copy Method\n",
        "\n",
        "copy = arr.copy()\n",
        "copy[0] = 42\n",
        "\n",
        "print(arr)\n",
        "print(copy)"
      ],
      "metadata": {
        "id": "Ozoy9Dt_g3wD",
        "colab": {
          "base_uri": "https://localhost:8080/"
        },
        "outputId": "932bcafa-4aa4-4779-80e9-1aa7ac7a3dc9"
      },
      "execution_count": 10,
      "outputs": [
        {
          "output_type": "stream",
          "name": "stdout",
          "text": [
            "[1 2 3 4 5]\n",
            "[42  2  3  4  5]\n"
          ]
        }
      ]
    },
    {
      "cell_type": "code",
      "source": [],
      "metadata": {
        "id": "q8-l86P-sryy"
      },
      "execution_count": null,
      "outputs": []
    },
    {
      "cell_type": "code",
      "source": [
        "# View Method\n",
        "\n",
        "view = arr.view()\n",
        "view[0] = 42\n",
        "\n",
        "print(arr)\n",
        "print(view)"
      ],
      "metadata": {
        "id": "Ayrq2SoW740N",
        "colab": {
          "base_uri": "https://localhost:8080/"
        },
        "outputId": "eb39fb3e-3af3-41bb-e8a7-8b786880966a"
      },
      "execution_count": 11,
      "outputs": [
        {
          "output_type": "stream",
          "name": "stdout",
          "text": [
            "[42  2  3  4  5]\n",
            "[42  2  3  4  5]\n"
          ]
        }
      ]
    },
    {
      "cell_type": "code",
      "source": [],
      "metadata": {
        "id": "37qxM78675As"
      },
      "execution_count": null,
      "outputs": []
    },
    {
      "cell_type": "code",
      "source": [],
      "metadata": {
        "id": "Jv7goZnh75MU"
      },
      "execution_count": null,
      "outputs": []
    },
    {
      "cell_type": "code",
      "source": [],
      "metadata": {
        "id": "AsJD0IWMBJRP"
      },
      "execution_count": null,
      "outputs": []
    },
    {
      "cell_type": "markdown",
      "source": [
        "# Append , Insert and Delete Operations"
      ],
      "metadata": {
        "id": "LYmG8dHtPIF8"
      }
    },
    {
      "cell_type": "code",
      "source": [
        "a = np.array([[1,2,3],\n",
        "              [4,5,6]])\n",
        "a.shape\n",
        "# Append Method\n",
        "\n",
        "np.append(a, [7,8,9])\n",
        "np.append(a, [[7,8,9]],axis = 0)                # axis = 0 = row , axis = 1 = col\n",
        "np.append(a, [[5],[8]],axis = 1)"
      ],
      "metadata": {
        "id": "Y5K3wky1BJTa",
        "colab": {
          "base_uri": "https://localhost:8080/"
        },
        "outputId": "97a6ddba-155f-4795-fce8-bb3319d42351"
      },
      "execution_count": 12,
      "outputs": [
        {
          "output_type": "execute_result",
          "data": {
            "text/plain": [
              "array([[1, 2, 3, 5],\n",
              "       [4, 5, 6, 8]])"
            ]
          },
          "metadata": {},
          "execution_count": 12
        }
      ]
    },
    {
      "cell_type": "code",
      "source": [],
      "metadata": {
        "id": "YEL9lATVujCu"
      },
      "execution_count": null,
      "outputs": []
    },
    {
      "cell_type": "code",
      "source": [],
      "metadata": {
        "id": "pRjS_0S0ujNa"
      },
      "execution_count": null,
      "outputs": []
    },
    {
      "cell_type": "code",
      "source": [
        "a = np.array([[1,2],\n",
        "              [3,4],\n",
        "              [5,6]])\n",
        "\n",
        "# Insert Method\n",
        "\n",
        "np.insert(a,3,[11,12])\n",
        "np.insert(a,1,[11,12],axis = 0)\n",
        "np.insert(a,1,[11,12,13],axis = 1)"
      ],
      "metadata": {
        "id": "TPOzFwGTPQSl",
        "colab": {
          "base_uri": "https://localhost:8080/"
        },
        "outputId": "a4b16935-c930-43ed-d33e-a9ec93bbbe66"
      },
      "execution_count": 14,
      "outputs": [
        {
          "output_type": "execute_result",
          "data": {
            "text/plain": [
              "array([[ 1, 11,  2],\n",
              "       [ 3, 12,  4],\n",
              "       [ 5, 13,  6]])"
            ]
          },
          "metadata": {},
          "execution_count": 14
        }
      ]
    },
    {
      "cell_type": "code",
      "source": [],
      "metadata": {
        "id": "7rfnh_KmwUpO"
      },
      "execution_count": null,
      "outputs": []
    },
    {
      "cell_type": "code",
      "source": [],
      "metadata": {
        "id": "Q6qD5F6ewUs0"
      },
      "execution_count": null,
      "outputs": []
    },
    {
      "cell_type": "code",
      "source": [
        "a = np.array([[ 1,  2,  3, 12],\n",
        "              [ 9,  5,  6,  11],\n",
        "              [ 8,  4, 10, 7]])\n",
        "\n",
        "# Delete Method\n",
        "\n",
        "np.delete(a,4)\n",
        "np.delete(a,1,axis = 1)\n",
        "np.delete(a,1,axis = 0)"
      ],
      "metadata": {
        "id": "n_3V0lt7PQU1",
        "colab": {
          "base_uri": "https://localhost:8080/"
        },
        "outputId": "5373466e-b582-460e-c081-5255c045097f"
      },
      "execution_count": 15,
      "outputs": [
        {
          "output_type": "execute_result",
          "data": {
            "text/plain": [
              "array([[ 1,  2,  3, 12],\n",
              "       [ 8,  4, 10,  7]])"
            ]
          },
          "metadata": {},
          "execution_count": 15
        }
      ]
    },
    {
      "cell_type": "code",
      "source": [
        "np.ndim(a)"
      ],
      "metadata": {
        "id": "rdE7TUaDPQZ4",
        "outputId": "6847e703-f7a2-4f48-fc86-09d366121b34",
        "colab": {
          "base_uri": "https://localhost:8080/"
        }
      },
      "execution_count": 16,
      "outputs": [
        {
          "output_type": "execute_result",
          "data": {
            "text/plain": [
              "2"
            ]
          },
          "metadata": {},
          "execution_count": 16
        }
      ]
    },
    {
      "cell_type": "code",
      "source": [],
      "metadata": {
        "id": "whS_RV9cPQis"
      },
      "execution_count": null,
      "outputs": []
    },
    {
      "cell_type": "code",
      "source": [],
      "metadata": {
        "id": "RhURBzwzPQk-"
      },
      "execution_count": null,
      "outputs": []
    },
    {
      "cell_type": "markdown",
      "source": [
        "# Hstack vs Vstack\n",
        "\n",
        "Hstack is used to join two arrays **Horizontally**.\n",
        "\n",
        "Vstack is used to join two arrays **Vertically**.\n"
      ],
      "metadata": {
        "id": "k7DcE6R1BKfX"
      }
    },
    {
      "cell_type": "code",
      "source": [
        "import numpy as np"
      ],
      "metadata": {
        "id": "ANnI5Qaonnwp"
      },
      "execution_count": 17,
      "outputs": []
    },
    {
      "cell_type": "code",
      "source": [
        "a = np.array([1, 2, 3])\n",
        "b = np.array([4, 5, 6])"
      ],
      "metadata": {
        "id": "9siOHvOXBJVi"
      },
      "execution_count": 18,
      "outputs": []
    },
    {
      "cell_type": "code",
      "source": [
        "print(a,b)\n",
        "print(np.ndim(a), np.ndim(b))"
      ],
      "metadata": {
        "id": "psDC18pQBJXo",
        "colab": {
          "base_uri": "https://localhost:8080/"
        },
        "outputId": "2ab9ae5b-d2ce-4a2d-985f-9d3d528abb1e"
      },
      "execution_count": 19,
      "outputs": [
        {
          "output_type": "stream",
          "name": "stdout",
          "text": [
            "[1 2 3] [4 5 6]\n",
            "1 1\n"
          ]
        }
      ]
    },
    {
      "cell_type": "code",
      "source": [
        "# Performing Hstack\n",
        "\n",
        "result = np.hstack((a,b))\n",
        "\n",
        "print(result)\n",
        "print(np.ndim(result))"
      ],
      "metadata": {
        "id": "s88-QDBBBJZ6",
        "colab": {
          "base_uri": "https://localhost:8080/"
        },
        "outputId": "50c91533-cae6-4633-ef45-647dc00b0fa3"
      },
      "execution_count": 20,
      "outputs": [
        {
          "output_type": "stream",
          "name": "stdout",
          "text": [
            "[1 2 3 4 5 6]\n",
            "1\n"
          ]
        }
      ]
    },
    {
      "cell_type": "code",
      "source": [
        "# Performing Vstack\n",
        "\n",
        "result = np.vstack((a,b))\n",
        "\n",
        "print(result, np.ndim(result))"
      ],
      "metadata": {
        "id": "4NU5OftUDl5h",
        "colab": {
          "base_uri": "https://localhost:8080/"
        },
        "outputId": "446300ce-f457-4e57-dd16-3a7559a801c6"
      },
      "execution_count": 21,
      "outputs": [
        {
          "output_type": "stream",
          "name": "stdout",
          "text": [
            "[[1 2 3]\n",
            " [4 5 6]] 2\n"
          ]
        }
      ]
    },
    {
      "cell_type": "code",
      "source": [],
      "metadata": {
        "id": "rXXsBsxUDl78"
      },
      "execution_count": null,
      "outputs": []
    },
    {
      "cell_type": "code",
      "source": [],
      "metadata": {
        "id": "IS_KHhWbDl-t"
      },
      "execution_count": null,
      "outputs": []
    },
    {
      "cell_type": "code",
      "source": [],
      "metadata": {
        "id": "-hbic_I5DmBq"
      },
      "execution_count": null,
      "outputs": []
    },
    {
      "cell_type": "markdown",
      "source": [
        "# Numpy Concatenation\n",
        "\n",
        "It is used for joining two or more arrays of the same shape along a specified axis.\n",
        "\n",
        "Axis = 0, Adding new rows\n",
        "\n",
        "Axis = 1, Adding new columns\n"
      ],
      "metadata": {
        "id": "Mh1rrauKETDN"
      }
    },
    {
      "cell_type": "code",
      "source": [
        "arr1 = np.array([[2, 4], [6, 8]])\n",
        "arr2 = np.array([[3, 5], [7, 9]])\n",
        "\n",
        "# print(arr1.shape,arr2.shape)\n",
        "\n",
        "arr3 = np.array([[3], [9]])\n",
        "arr4 = np.array([[4] , [8]])\n",
        "\n",
        "print(arr3.shape,arr4.shape)\n",
        "\n",
        "new = np.concatenate((arr1, arr2), axis = 0)\n",
        "\n",
        "# print(new, new.shape)"
      ],
      "metadata": {
        "id": "YjMeNhqJEmO7",
        "colab": {
          "base_uri": "https://localhost:8080/"
        },
        "outputId": "b6d9053f-14ed-4981-c4c9-fe93d9d9f27c"
      },
      "execution_count": 22,
      "outputs": [
        {
          "output_type": "stream",
          "name": "stdout",
          "text": [
            "(2, 1) (2, 1)\n"
          ]
        }
      ]
    },
    {
      "cell_type": "code",
      "source": [
        "new = np.concatenate((arr3, arr4), axis = 1)\n",
        "\n",
        "print(new)"
      ],
      "metadata": {
        "id": "jcrws4QsHPQV",
        "colab": {
          "base_uri": "https://localhost:8080/"
        },
        "outputId": "1fff14e2-93c3-4999-bb73-b1190dffb02b"
      },
      "execution_count": 23,
      "outputs": [
        {
          "output_type": "stream",
          "name": "stdout",
          "text": [
            "[[3 4]\n",
            " [9 8]]\n"
          ]
        }
      ]
    },
    {
      "cell_type": "code",
      "source": [],
      "metadata": {
        "id": "b45Rtjh_HPTe"
      },
      "execution_count": null,
      "outputs": []
    },
    {
      "cell_type": "code",
      "source": [],
      "metadata": {
        "id": "5-s_jRJNHPWI"
      },
      "execution_count": null,
      "outputs": []
    }
  ]
}